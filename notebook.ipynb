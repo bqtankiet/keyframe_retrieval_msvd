{
  "cells": [
    {
      "cell_type": "code",
      "source": [
        "!pip install -qU -r requirements.txt"
      ],
      "metadata": {
        "id": "CeKFb7JKKf6e"
      },
      "execution_count": null,
      "outputs": []
    },
    {
      "cell_type": "code",
      "source": [
        "!unzip faiss_index.zip"
      ],
      "metadata": {
        "id": "fmYtrgt-MzbT"
      },
      "execution_count": null,
      "outputs": []
    },
    {
      "cell_type": "code",
      "source": [
        "!python app.py"
      ],
      "metadata": {
        "id": "hc7bWJuiR2cp"
      },
      "execution_count": null,
      "outputs": []
    }
  ],
  "metadata": {
    "colab": {
      "name": "Welcome To Colab",
      "provenance": []
    },
    "kernelspec": {
      "display_name": "Python 3",
      "name": "python3"
    }
  },
  "nbformat": 4,
  "nbformat_minor": 0
}