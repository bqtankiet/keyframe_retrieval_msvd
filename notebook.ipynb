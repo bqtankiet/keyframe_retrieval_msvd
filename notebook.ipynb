{
  "cells": [
    {
      "cell_type": "markdown",
      "metadata": {
        "id": "FmrVC33rZzfO"
      },
      "source": [
        "# Keyframe Retrieval with MSVD dataset"
      ]
    },
    {
      "cell_type": "markdown",
      "metadata": {
        "id": "3mh--xkaZzfP"
      },
      "source": [
        "<a target=\"_blank\" href=\"https://colab.research.google.com/github/bqtankiet/keyframe_retrieval_msvd/blob/main/notebook.ipynb\">\n",
        "  <img src=\"https://colab.research.google.com/assets/colab-badge.svg\" alt=\"Open In Colab\"/>\n",
        "</a>"
      ]
    },
    {
      "cell_type": "markdown",
      "source": [
        "## Quick start\n",
        "To set up and run the project, follow these steps:"
      ],
      "metadata": {
        "id": "px7gVdKkfiOo"
      }
    },
    {
      "cell_type": "markdown",
      "source": [
        "**1. Clone the repo**"
      ],
      "metadata": {
        "id": "Wm4_mM-SfDXA"
      }
    },
    {
      "cell_type": "code",
      "source": [
        "!git clone https://github.com/bqtankiet/keyframe_retrieval_msvd.git\n",
        "%cd keyframe_retrieval_msvd/"
      ],
      "metadata": {
        "id": "FYWfsVP5Z1UW"
      },
      "execution_count": null,
      "outputs": []
    },
    {
      "cell_type": "markdown",
      "source": [
        "**2. Install required libraries**"
      ],
      "metadata": {
        "id": "Tc8eCCpvfRDj"
      }
    },
    {
      "cell_type": "code",
      "execution_count": null,
      "metadata": {
        "id": "CeKFb7JKKf6e"
      },
      "outputs": [],
      "source": [
        "!pip install -qU -r requirements.txt"
      ]
    },
    {
      "cell_type": "markdown",
      "source": [
        "**3. Run the app**"
      ],
      "metadata": {
        "id": "c5faJJWZfYzT"
      }
    },
    {
      "cell_type": "code",
      "source": [
        "!python app.py"
      ],
      "metadata": {
        "id": "B91ntjwTb57C"
      },
      "execution_count": null,
      "outputs": []
    }
  ],
  "metadata": {
    "colab": {
      "name": "Welcome To Colab",
      "provenance": []
    },
    "kernelspec": {
      "display_name": "Python 3",
      "name": "python3"
    }
  },
  "nbformat": 4,
  "nbformat_minor": 0
}